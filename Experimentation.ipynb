{
 "cells": [
  {
   "cell_type": "code",
   "execution_count": null,
   "id": "cb733f19-7e6b-4915-8d89-4f58b4d93e58",
   "metadata": {},
   "outputs": [],
   "source": []
  }
 ],
 "metadata": {
  "kernelspec": {
   "display_name": "",
   "name": ""
  },
  "language_info": {
   "name": ""
  }
 },
 "nbformat": 4,
 "nbformat_minor": 5
}
