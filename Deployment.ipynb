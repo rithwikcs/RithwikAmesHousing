{
 "cells": [
  {
   "cell_type": "code",
   "execution_count": 31,
   "id": "f003bf4e-9ed1-4401-b33a-b88d7b99def9",
   "metadata": {},
   "outputs": [],
   "source": [
    "import pandas as pd #import pandas library\n",
    "import seaborn as sns #import seaborn library used for data visualization and plotting\n",
    "import matplotlib.pyplot as plt #import matplotlib library that seaborn builds on for plotting\n",
    "from sklearn.linear_model import LinearRegression\n",
    "from sklearn.model_selection import train_test_split #import train_test_split function from sklearn library to split data into training and testing sets\n",
    "from sklearn.metrics import mean_squared_error, r2_score #import mean_squared_error and r2_score from sklearn library to evaluate the model performance\n",
    "import joblib #job library library for saving and loading python objects\n",
    "from pydantic import BaseModel, Field #import to define data's structure\n",
    "import numpy as np #numpy for numeric arrays\n",
    "from fastapi import FastAPI #imports fastAPI"
   ]
  },
  {
   "cell_type": "code",
   "execution_count": 32,
   "id": "c56231bb-6589-4a58-95ae-6b60d8594bb0",
   "metadata": {},
   "outputs": [],
   "source": [
    "model = joblib.load(\"house_price_model.pkl\") #loads model from earlier into model object"
   ]
  },
  {
   "cell_type": "code",
   "execution_count": 33,
   "id": "bd01244e-7f3c-44df-9afb-0e5456a11bfc",
   "metadata": {},
   "outputs": [],
   "source": [
    "class HouseFeatures(BaseModel): #define expected input data format\n",
    "    TotalSQFT: float\n",
    "    HouseAge: int = Field(..., alias=\"House Age\")\n",
    "    GarageArea: float = Field(..., alias=\"Garage Area\")\n",
    "    TotalBath: int"
   ]
  },
  {
   "cell_type": "code",
   "execution_count": 34,
   "id": "c643aa21-551e-444b-9c9b-8ff9b91caa23",
   "metadata": {},
   "outputs": [],
   "source": [
    "app = FastAPI() #create FastAPI instance"
   ]
  },
  {
   "cell_type": "code",
   "execution_count": 35,
   "id": "1ef73175-3c31-427c-a704-a7e94eded603",
   "metadata": {},
   "outputs": [],
   "source": [
    "@app.get(\"/\") #GET endpoint intended to test if API is working\n",
    "def home(): #returns JSON response confirming API is live\n",
    "    return {\"message\": \"House Predictor API is live\"}"
   ]
  },
  {
   "cell_type": "code",
   "execution_count": 36,
   "id": "6562687f-6565-4f91-9240-b4d6080f6909",
   "metadata": {},
   "outputs": [],
   "source": [
    "@app.post(\"/predict\") #POST endpoint '/predict' defined, receives house features and returns predicted price\n",
    "def predict_price(features: HouseFeatures): \n",
    "    #convert inputs into 2D numpy array\n",
    "    input_data = np.array([[features.TotalSQFT,\n",
    "                            features.HouseAge,\n",
    "                            features.GarageArea,\n",
    "                            features.TotalBath]])\n",
    "    #use model to predict sale price for input data\n",
    "    prediction = model.predict(input_data)[0] # [0] gets scalar from array\n",
    "    return {\"predicted_sale_price\": round(prediction, 2)} #JSON Response, returns prediction rounded to 2 decimal places"
   ]
  }
 ],
 "metadata": {
  "kernelspec": {
   "display_name": "Python (myenv)",
   "language": "python",
   "name": "myenv"
  },
  "language_info": {
   "codemirror_mode": {
    "name": "ipython",
    "version": 3
   },
   "file_extension": ".py",
   "mimetype": "text/x-python",
   "name": "python",
   "nbconvert_exporter": "python",
   "pygments_lexer": "ipython3",
   "version": "3.10.18"
  }
 },
 "nbformat": 4,
 "nbformat_minor": 5
}
